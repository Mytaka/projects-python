{
 "cells": [
  {
   "cell_type": "code",
   "execution_count": null,
   "metadata": {},
   "outputs": [],
   "source": [
    "ukr_21 = ['задоволений', 'спантеличений', 'схвильований', 'ентузіаст', 'обережний', 'тривожний', 'емоційний зрив', 'наляканий', 'терплячий', 'нетерплячий', 'вдячний', 'веселий', 'везучий', 'настрій', 'отримати', 'перейти дорогу', 'терміновий дедлайн', 'впливати', 'псувати', 'пара', 'відчувати (усі форми)', 'завдання', 'уряд']\n",
    "eng_21 = ['pleased', 'confused', 'excited', 'enthusiastic', 'cautious', 'anxious', 'emotional breakdown', 'frightened', 'patient', 'impatient', 'grateful', 'cheerful', 'lucky', 'mood', 'to receive', 'to cross the road', 'urgent deadline', 'to influence', 'to spoil', 'couple', 'feel felt felt', 'assignment', 'government']\n",
    "\n",
    "ukr_22 = ['помітити', 'досвід', 'терпіння', 'винний', 'чесний', 'скоріше', 'обіймати', 'розгадати', 'загадковий', 'колега', 'алкоголь']\n",
    "eng_22 = ['to notice', 'experience', 'patience', 'guilty', 'honest', 'rather', 'hug', 'to puzzle', 'puzzling', 'colleague', 'alcohol']\n"
   ]
  },
  {
   "cell_type": "code",
   "execution_count": 2,
   "metadata": {},
   "outputs": [
    {
     "name": "stdout",
     "output_type": "stream",
     "text": [
      "['to notice', 'experience', 'patience', 'guilty', 'honest', 'rather', 'hug', 'to puzzle', 'puzzling', 'colleague', 'alcohol']\n"
     ]
    }
   ],
   "source": [
    "a = 'to notice,experience,patience,guilty,honest,rather,hug,to puzzle,puzzling,colleague,alcohol'\n",
    "print(a.split(','))"
   ]
  }
 ],
 "metadata": {
  "kernelspec": {
   "display_name": "Python 3",
   "language": "python",
   "name": "python3"
  },
  "language_info": {
   "codemirror_mode": {
    "name": "ipython",
    "version": 3
   },
   "file_extension": ".py",
   "mimetype": "text/x-python",
   "name": "python",
   "nbconvert_exporter": "python",
   "pygments_lexer": "ipython3",
   "version": "3.11.9"
  }
 },
 "nbformat": 4,
 "nbformat_minor": 2
}
