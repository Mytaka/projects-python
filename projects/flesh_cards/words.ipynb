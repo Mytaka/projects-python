{
 "cells": [
  {
   "cell_type": "code",
   "execution_count": null,
   "metadata": {},
   "outputs": [],
   "source": [
    "ukr_21 = ['задоволений', 'спантеличений', 'схвильований', 'ентузіаст', 'обережний', 'тривожний', 'емоційний зрив', 'наляканий', 'терплячий', 'нетерплячий', 'вдячний', 'веселий', 'везучий', 'настрій', 'отримати', 'перейти дорогу', 'терміновий дедлайн', 'впливати', 'псувати', 'пара', 'відчувати (усі форми)', 'завдання', 'уряд']\n",
    "eng_21 = ['pleased', 'confused', 'excited', 'enthusiastic', 'cautious', 'anxious', 'emotional breakdown', 'frightened', 'patient', 'impatient', 'grateful', 'cheerful', 'lucky', 'mood', 'to receive', 'to cross the road', 'urgent deadline', 'to influence', 'to spoil', 'couple', 'feel felt felt', 'assignment', 'government']\n",
    "\n",
    "urk_22 = []\n",
    "ukr_22 = []"
   ]
  }
 ],
 "metadata": {
  "language_info": {
   "name": "python"
  }
 },
 "nbformat": 4,
 "nbformat_minor": 2
}
