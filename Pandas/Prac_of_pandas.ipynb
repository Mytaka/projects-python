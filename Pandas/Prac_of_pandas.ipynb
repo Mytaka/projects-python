{
 "cells": [
  {
   "cell_type": "code",
   "execution_count": 2,
   "metadata": {},
   "outputs": [],
   "source": [
    "import numpy as np\n",
    "import pandas as pd\n",
    "\n",
    "# mylist = list('abcedfghijklmnopqrstuvwxyz')\n",
    "# myarr = np.arange(26)\n",
    "# mydict = dict(zip(mylist, myarr))\n",
    "\n",
    "# ser = pd.Series(mydict)\n",
    "# print(ser)\n",
    "\n",
    "# -----------------------------------------------------------------------------------------\n",
    "\n",
    "# mylist = list('abcedfghijklmnopqrstuvwxyz')\n",
    "# myarr = np.arange(26)\n",
    "# mydict = dict(zip(mylist, myarr))\n",
    "# ser = pd.Series(mydict)\n",
    "# df = ser.to_frame().reset_index()\n",
    "# print(df)\n",
    "\n",
    "# -----------------------------------------------------------------------------------------\n",
    "\n",
    "# ser1 = pd.Series(list('abcedfghijklmnopqrstuvwxyz'))\n",
    "# ser2 = pd.Series(np.arange(26))\n",
    "# df = pd.DataFrame({'col_1': ser1,\n",
    "#                    'col_2': ser2})\n",
    "# print(df)\n",
    "\n",
    "# -----------------------------------------------------------------------------------------\n",
    "\n",
    "# ser = pd.Series(list('abcedfghijklmnopqrstuvwxyz'),\n",
    "#                 name = 'alphabets')\n",
    "# print(ser)\n",
    "\n",
    "# -----------------------------------------------------------------------------------------\n",
    "\n",
    "# ser1 = pd.Series([1, 2, 3, 4, 5])\n",
    "# ser2 = pd.Series([4, 5, 6, 7, 8])\n",
    "# ser1 = ser1[~ser1.isin(ser2)] # ~ - инверсия булевых значений\n",
    "# print(ser1)\n",
    "\n",
    "# -----------------------------------------------------------------------------------------\n",
    "\n",
    "# ser1 = pd.Series([1, 2, 3, 4, 5])\n",
    "# ser2 = pd.Series([4, 5, 6, 7, 8])\n",
    "# ser = pd.Series(np.union1d(ser1,ser2))\n",
    "# print(~ser1.isin(np.intersect1d(ser1,ser2)), ~ser2.isin(np.intersect1d(ser1,ser2)))\n",
    "\n",
    "# print()"
   ]
  },
  {
   "cell_type": "markdown",
   "metadata": {},
   "source": [
    "Рассчитай среднюю температуру для каждого месяца, построй изменение температуры по времени и \n",
    "определи, в каком месяце была самая высокая и самая низкая температура."
   ]
  },
  {
   "cell_type": "code",
   "execution_count": 3,
   "metadata": {},
   "outputs": [],
   "source": [
    "# df = pd.read_csv('D:\\projects\\projects-python\\Trifles\\weather_data.csv')\n",
    "# df['date'] = pd.to_datetime(df['date'])\n",
    "\n",
    "# df['month'] = df['date'].dt.month\n",
    "\n",
    "# temp = df.groupby('month').agg({'temperature' : [ np.max, np.min,np.mean ]} )\n",
    "\n",
    "# print('everange: ', temp.mean())\n",
    "# print('min: ',temp.min())\n",
    "# print('max: ',temp.max())\n"
   ]
  },
  {
   "cell_type": "markdown",
   "metadata": {},
   "source": [
    "Описание задачи: Найди дни с экстремальными погодными условиями:\n",
    "Очень высокая температура (>30°C) или очень низкая (<-10°C).\n",
    "Сильные осадки (>50 мм)."
   ]
  },
  {
   "cell_type": "code",
   "execution_count": 6,
   "metadata": {},
   "outputs": [
    {
     "name": "stdout",
     "output_type": "stream",
     "text": [
      "0      6.9\n",
      "4     -3.0\n",
      "5     -3.0\n",
      "6     -7.4\n",
      "10    -9.1\n",
      "      ... \n",
      "353   -2.7\n",
      "354   -6.8\n",
      "356   -8.8\n",
      "360    7.5\n",
      "365    7.4\n",
      "Name: temperature, Length: 165, dtype: float64\n",
      "1      32.8\n",
      "2      22.9\n",
      "3      16.9\n",
      "7      29.0\n",
      "8      17.1\n",
      "       ... \n",
      "359    15.9\n",
      "361    18.9\n",
      "362    10.6\n",
      "363    14.6\n",
      "364    32.4\n",
      "Name: temperature, Length: 201, dtype: float64\n",
      "Series([], Name: precipitation, dtype: float64)\n"
     ]
    }
   ],
   "source": [
    "df = pd.read_csv('D:\\projects\\projects-python\\Trifles\\weather_data.csv')\n",
    "df['date'] = pd.to_datetime(df['date'])\n",
    "\n",
    "print(df[df['temperature'] <= 10]['temperature'])\n",
    "print(df[df['temperature'] >= 10]['temperature'])\n",
    "print(df[df['precipitation'] > 50]['precipitation'])"
   ]
  },
  {
   "cell_type": "markdown",
   "metadata": {},
   "source": [
    "Описание задачи: Раздели данные на сезоны (зима, весна, лето, осень) и вычисли среднюю скорость ветра для каждого сезона."
   ]
  },
  {
   "cell_type": "code",
   "execution_count": 5,
   "metadata": {},
   "outputs": [],
   "source": [
    "df = pd.read_csv('D:\\projects\\projects-python\\Trifles\\weather_data.csv')\n",
    "df['date'] = pd.to_datetime(df['date'])\n"
   ]
  }
 ],
 "metadata": {
  "kernelspec": {
   "display_name": "Python 3",
   "language": "python",
   "name": "python3"
  },
  "language_info": {
   "codemirror_mode": {
    "name": "ipython",
    "version": 3
   },
   "file_extension": ".py",
   "mimetype": "text/x-python",
   "name": "python",
   "nbconvert_exporter": "python",
   "pygments_lexer": "ipython3",
   "version": "3.11.9"
  }
 },
 "nbformat": 4,
 "nbformat_minor": 2
}
