{
 "cells": [
  {
   "cell_type": "code",
   "execution_count": 5,
   "metadata": {},
   "outputs": [
    {
     "name": "stdout",
     "output_type": "stream",
     "text": [
      "Correct:  спантеличений\n",
      "                      ukr                  eng  right  wrong  time\n",
      "0             задоволений              pleased    1.0    NaN  5.16\n",
      "1           спантеличений             confused    NaN    1.0  0.61\n",
      "2            схвильований              excited    NaN    NaN   NaN\n",
      "3               ентузіаст         enthusiastic    NaN    NaN   NaN\n",
      "4               обережний             cautious    NaN    NaN   NaN\n",
      "5               тривожний              anxious    NaN    NaN   NaN\n",
      "6          емоційний зрив  emotional breakdown    NaN    NaN   NaN\n",
      "7               наляканий           frightened    NaN    NaN   NaN\n",
      "8               терплячий              patient    NaN    NaN   NaN\n",
      "9             нетерплячий            impatient    NaN    NaN   NaN\n",
      "10                вдячний             grateful    NaN    NaN   NaN\n",
      "11                веселий             cheerful    NaN    NaN   NaN\n",
      "12                везучий                lucky    NaN    NaN   NaN\n",
      "13                настрій                 mood    NaN    NaN   NaN\n",
      "14               отримати           to receive    NaN    NaN   NaN\n",
      "15         перейти дорогу    to cross the road    NaN    NaN   NaN\n",
      "16     терміновий дедлайн      urgent deadline    NaN    NaN   NaN\n",
      "17               впливати         to influence    NaN    NaN   NaN\n",
      "18                псувати             to spoil    NaN    NaN   NaN\n",
      "19                   пара               couple    NaN    NaN   NaN\n",
      "20  відчувати (усі форми)       feel felt felt    NaN    NaN   NaN\n",
      "21               завдання           assignment    NaN    NaN   NaN\n",
      "22                   уряд           government    NaN    NaN   NaN\n"
     ]
    }
   ],
   "source": [
    "import numpy as np\n",
    "import pandas as pd\n",
    "import sqlite3 as sq\n",
    "from time import time\n",
    "\n",
    "def right_answer(random_num):\n",
    "    df.loc[random_num, 'right'] = 1\n",
    "\n",
    "def wrong_answer(df,ukr_word,index,df_words,random_num = None):\n",
    "    if random_num is None:\n",
    "        df.loc[index, 'wrong'] = 1\n",
    "        print('Correct: ', df_words.iat[index,1])\n",
    "        user = input(f'{index+1}) Translate \"{ukr_word}\" ')\n",
    "        if user == '-':\n",
    "            return '-'\n",
    "        else:\n",
    "            return user == df.iat[index,1]\n",
    "    else:\n",
    "        df.loc[random_num,'wrong'] = 1\n",
    "        print('Correct: ',df.iat[random_num,1])\n",
    "        user = input(f'{index+1}) Translate \"{ukr_word}\" ')\n",
    "        if user == '-':\n",
    "            return '-'\n",
    "        else:\n",
    "            return user == df.iat[random_num,1]\n",
    "    \n",
    "\n",
    "start_program = time()\n",
    "\n",
    "ukr = ['задоволений', 'спантеличений', 'схвильований', 'ентузіаст', 'обережний', 'тривожний', 'емоційний зрив', 'наляканий', 'терплячий', 'нетерплячий', 'вдячний', 'веселий', 'везучий', 'настрій', 'отримати', 'перейти дорогу', 'терміновий дедлайн', 'впливати', 'псувати', 'пара', 'відчувати (усі форми)', 'завдання', 'уряд']\n",
    "eng = ['pleased', 'confused', 'excited', 'enthusiastic', 'cautious', 'anxious', 'emotional breakdown', 'frightened', 'patient', 'impatient', 'grateful', 'cheerful', 'lucky', 'mood', 'to receive', 'to cross the road', 'urgent deadline', 'to influence', 'to spoil', 'couple', 'feel felt felt', 'assignment', 'government']\n",
    "\n",
    "df = pd.DataFrame({'ukr' : ukr,\n",
    "                   'eng' : eng,\n",
    "                   'right': np.nan,\n",
    "                   'wrong': np.nan,\n",
    "                   'time' : np.nan,\n",
    "                   })\n",
    "\n",
    "flag = input('start(1) | standart(2) | revers(3) | random(4): ')\n",
    "\n",
    "print(df)"
   ]
  }
 ],
 "metadata": {
  "kernelspec": {
   "display_name": "Python 3",
   "language": "python",
   "name": "python3"
  },
  "language_info": {
   "codemirror_mode": {
    "name": "ipython",
    "version": 3
   },
   "file_extension": ".py",
   "mimetype": "text/x-python",
   "name": "python",
   "nbconvert_exporter": "python",
   "pygments_lexer": "ipython3",
   "version": "3.11.9"
  }
 },
 "nbformat": 4,
 "nbformat_minor": 2
}
